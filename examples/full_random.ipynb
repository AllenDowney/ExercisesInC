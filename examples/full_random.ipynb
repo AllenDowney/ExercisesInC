{
 "cells": [
  {
   "cell_type": "markdown",
   "metadata": {},
   "source": [
    "# Generating random floating-point\n",
    "\n",
    "Elements of Data Science\n",
    "\n",
    "by [Allen Downey](https://allendowney.com)\n",
    "\n",
    "[MIT License](https://opensource.org/licenses/MIT)\n",
    "\n",
    "Based on [this unpublished paper](https://allendowney.com/research/rand/)\n"
   ]
  },
  {
   "cell_type": "code",
   "execution_count": 1,
   "metadata": {},
   "outputs": [],
   "source": [
    "# If we're running on Colab, install empiricaldist\n",
    "# https://pypi.org/project/empiricaldist/\n",
    "\n",
    "import sys\n",
    "IN_COLAB = 'google.colab' in sys.modules\n",
    "\n",
    "if IN_COLAB:\n",
    "    !pip install empiricaldist"
   ]
  },
  {
   "cell_type": "code",
   "execution_count": 2,
   "metadata": {},
   "outputs": [
    {
     "name": "stdout",
     "output_type": "stream",
     "text": [
      "48.2 ns ± 1.38 ns per loop (mean ± std. dev. of 7 runs, 10000000 loops each)\n"
     ]
    }
   ],
   "source": [
    "from random import random\n",
    "\n",
    "%timeit random()"
   ]
  },
  {
   "cell_type": "code",
   "execution_count": 3,
   "metadata": {},
   "outputs": [
    {
     "data": {
      "text/plain": [
       "(3.7156049220832266e-05, 0.9999840330500827)"
      ]
     },
     "execution_count": 3,
     "metadata": {},
     "output_type": "execute_result"
    }
   ],
   "source": [
    "sample = [random() for i in range(10000)]\n",
    "min(sample), max(sample)"
   ]
  },
  {
   "cell_type": "code",
   "execution_count": 4,
   "metadata": {},
   "outputs": [
    {
     "data": {
      "image/png": "[encoded data removed]",
      "text/plain": [
       "<Figure size 432x288 with 1 Axes>"
      ]
     },
     "metadata": {
      "needs_background": "light"
     },
     "output_type": "display_data"
    }
   ],
   "source": [
    "from empiricaldist import Cdf\n",
    "\n",
    "Cdf.from_seq(sample).plot()"
   ]
  },
  {
   "cell_type": "code",
   "execution_count": 5,
   "metadata": {},
   "outputs": [],
   "source": [
    "# Implementation by Raymond Hettinger\n",
    "# https://github.com/python/cpython/pull/22664\n",
    "\n",
    "from random import getrandbits\n",
    "\n",
    "def full_random():\n",
    "    ''' Uniform distribution from all possible floats\n",
    "        in the interval 0.0 <= X < 1.0.\n",
    "\n",
    "    '''\n",
    "    # Choose a significand uniformly from:  2**52 <= mantissa < 2**53.\n",
    "    # Then choose a binade from a geometric distribution where smaller\n",
    "    # binade exponents occur half as often as the next larger exponent.\n",
    "\n",
    "    mantissa = 0x10_0000_0000_0000 | getrandbits(52)\n",
    "    exponent = -53\n",
    "    x = 0\n",
    "    while not x:\n",
    "        x = getrandbits(32)\n",
    "        exponent += x.bit_length() - 32\n",
    "    return mantissa * 2.0 ** exponent"
   ]
  },
  {
   "cell_type": "code",
   "execution_count": 6,
   "metadata": {},
   "outputs": [
    {
     "name": "stdout",
     "output_type": "stream",
     "text": [
      "684 ns ± 22.8 ns per loop (mean ± std. dev. of 7 runs, 1000000 loops each)\n"
     ]
    }
   ],
   "source": [
    "%timeit full_random()"
   ]
  },
  {
   "cell_type": "code",
   "execution_count": 7,
   "metadata": {},
   "outputs": [
    {
     "data": {
      "text/plain": [
       "(7.268641044149992e-05, 0.999875447578364)"
      ]
     },
     "execution_count": 7,
     "metadata": {},
     "output_type": "execute_result"
    }
   ],
   "source": [
    "sample = [full_random() for i in range(10000)]\n",
    "min(sample), max(sample)"
   ]
  },
  {
   "cell_type": "code",
   "execution_count": 8,
   "metadata": {
    "scrolled": true
   },
   "outputs": [
    {
     "data": {
      "image/png": "[encoded data removed]",
      "text/plain": [
       "<Figure size 432x288 with 1 Axes>"
      ]
     },
     "metadata": {
      "needs_background": "light"
     },
     "output_type": "display_data"
    }
   ],
   "source": [
    "from empiricaldist import Cdf\n",
    "\n",
    "Cdf.from_seq(sample).plot()"
   ]
  },
  {
   "cell_type": "code",
   "execution_count": null,
   "metadata": {},
   "outputs": [],
   "source": []
  },
  {
   "cell_type": "code",
   "execution_count": 9,
   "metadata": {},
   "outputs": [],
   "source": [
    "# Implementation by Raymond Hettinger\n",
    "# https://github.com/python/cpython/pull/22664\n",
    "\n",
    "from random import getrandbits\n",
    "\n",
    "def full_random():\n",
    "    ''' Uniform distribution from all possible floats\n",
    "        in the interval 0.0 <= X < 1.0.\n",
    "\n",
    "    '''\n",
    "    # Choose a significand uniformly from:  2**52 <= mantissa < 2**53.\n",
    "    # Then choose a binade from a geometric distribution where smaller\n",
    "    # binade exponents occur half as often as the next larger exponent.\n",
    "\n",
    "    mantissa = 0x10_0000_0000_0000 | getrandbits(52)\n",
    "    exponent = -53\n",
    "    x = 0\n",
    "    while not x:\n",
    "        x = getrandbits(32)\n",
    "        exponent += x.bit_length() - 32\n",
    "    return mantissa * 2.0 ** exponent"
   ]
  },
  {
   "cell_type": "code",
   "execution_count": 10,
   "metadata": {},
   "outputs": [
    {
     "name": "stdout",
     "output_type": "stream",
     "text": [
      "674 ns ± 21.2 ns per loop (mean ± std. dev. of 7 runs, 1000000 loops each)\n"
     ]
    }
   ],
   "source": [
    "%timeit full_random()"
   ]
  },
  {
   "cell_type": "code",
   "execution_count": 11,
   "metadata": {},
   "outputs": [
    {
     "data": {
      "text/plain": [
       "(8.527826201697584e-05, 0.9999422041335547)"
      ]
     },
     "execution_count": 11,
     "metadata": {},
     "output_type": "execute_result"
    }
   ],
   "source": [
    "sample = [full_random() for i in range(10000)]\n",
    "min(sample), max(sample)"
   ]
  },
  {
   "cell_type": "code",
   "execution_count": 12,
   "metadata": {
    "scrolled": true
   },
   "outputs": [
    {
     "data": {
      "image/png": "[encoded data removed]",
      "text/plain": [
       "<Figure size 432x288 with 1 Axes>"
      ]
     },
     "metadata": {
      "needs_background": "light"
     },
     "output_type": "display_data"
    }
   ],
   "source": [
    "from empiricaldist import Cdf\n",
    "\n",
    "Cdf.from_seq(sample).plot()"
   ]
  },
  {
   "cell_type": "code",
   "execution_count": 13,
   "metadata": {},
   "outputs": [],
   "source": [
    "# Implementation by Allen Downey\n",
    "\n",
    "from random import getrandbits\n",
    "\n",
    "def full_random():\n",
    "    ''' Uniform distribution from all possible floats\n",
    "        in the interval 0.0 <= X < 1.0.\n",
    "\n",
    "    '''\n",
    "    # Trying a version closer to the implementation in the paper.\n",
    "    # Turns out to be a little slower than Raymond's.\n",
    "    exponent = -53\n",
    "    bits = getrandbits(63)\n",
    "    test = 2\n",
    "    while bits % test == 0:\n",
    "        exponent -= 1\n",
    "        test <<= 1\n",
    "        \n",
    "    bits = (bits>>11) & 0x000f_ffff_ffff_ffff\n",
    "    mantissa = 0x0010_0000_0000_0000 | bits\n",
    "    return mantissa * 2.0 ** exponent"
   ]
  },
  {
   "cell_type": "code",
   "execution_count": 14,
   "metadata": {},
   "outputs": [
    {
     "data": {
      "text/plain": [
       "0.7063543798947223"
      ]
     },
     "execution_count": 14,
     "metadata": {},
     "output_type": "execute_result"
    }
   ],
   "source": [
    "full_random()"
   ]
  },
  {
   "cell_type": "code",
   "execution_count": 15,
   "metadata": {},
   "outputs": [
    {
     "name": "stdout",
     "output_type": "stream",
     "text": [
      "800 ns ± 23.1 ns per loop (mean ± std. dev. of 7 runs, 1000000 loops each)\n"
     ]
    }
   ],
   "source": [
    "%timeit full_random()"
   ]
  },
  {
   "cell_type": "code",
   "execution_count": 16,
   "metadata": {},
   "outputs": [
    {
     "data": {
      "text/plain": [
       "(0.0003048555077307528, 0.9999559553670975)"
      ]
     },
     "execution_count": 16,
     "metadata": {},
     "output_type": "execute_result"
    }
   ],
   "source": [
    "sample = [full_random() for i in range(10000)]\n",
    "min(sample), max(sample)"
   ]
  },
  {
   "cell_type": "code",
   "execution_count": 17,
   "metadata": {
    "scrolled": true
   },
   "outputs": [
    {
     "data": {
      "image/png": "[encoded data removed]",
      "text/plain": [
       "<Figure size 432x288 with 1 Axes>"
      ]
     },
     "metadata": {
      "needs_background": "light"
     },
     "output_type": "display_data"
    }
   ],
   "source": [
    "from empiricaldist import Cdf\n",
    "\n",
    "Cdf.from_seq(sample).plot()"
   ]
  },
  {
   "cell_type": "code",
   "execution_count": null,
   "metadata": {},
   "outputs": [],
   "source": []
  }
 ],
 "metadata": {
  "kernelspec": {
   "display_name": "Python 3",
   "language": "python",
   "name": "python3"
  },
  "language_info": {
   "codemirror_mode": {
    "name": "ipython",
    "version": 3
   },
   "file_extension": ".py",
   "mimetype": "text/x-python",
   "name": "python",
   "nbconvert_exporter": "python",
   "pygments_lexer": "ipython3",
   "version": "3.6.10"
  }
 },
 "nbformat": 4,
 "nbformat_minor": 2
}
